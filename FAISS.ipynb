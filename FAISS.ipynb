{
 "cells": [
  {
   "cell_type": "code",
   "execution_count": 1,
   "metadata": {},
   "outputs": [],
   "source": [
    "import os\n",
    "os.environ['CUDA_VISIBLE_DEVICES'] = \"\""
   ]
  },
  {
   "cell_type": "code",
   "execution_count": 2,
   "metadata": {},
   "outputs": [],
   "source": [
    "from langchain.embeddings import HuggingFaceEmbeddings\n",
    "from CustomFAISS import *\n",
    "import pandas as pd\n",
    "import numpy as np\n",
    "import faiss"
   ]
  },
  {
   "cell_type": "code",
   "execution_count": 3,
   "metadata": {},
   "outputs": [
    {
     "data": {
      "text/plain": [
       "40.9013671875"
      ]
     },
     "execution_count": 3,
     "metadata": {},
     "output_type": "execute_result"
    }
   ],
   "source": [
    "data = pd.read_csv('embeddings_maths.csv', usecols=[i for i in range(2, 386)]).to_numpy()\n",
    "data.nbytes / (1024 * 1024) #MB"
   ]
  },
  {
   "cell_type": "code",
   "execution_count": 4,
   "metadata": {},
   "outputs": [],
   "source": [
    "train_data = data[:13900, :]\n",
    "test_data = data[13900:, :]"
   ]
  },
  {
   "cell_type": "code",
   "execution_count": 5,
   "metadata": {},
   "outputs": [],
   "source": [
    "model_path = \"sentence-transformers/all-MiniLM-l6-v2\"\n",
    "\n",
    "model = HuggingFaceEmbeddings(\n",
    "                            model_name=model_path,\n",
    "                            model_kwargs={'device': 'cpu'},\n",
    "                            )"
   ]
  },
  {
   "cell_type": "markdown",
   "metadata": {},
   "source": [
    "## FAISS Baseline"
   ]
  },
  {
   "cell_type": "code",
   "execution_count": 6,
   "metadata": {},
   "outputs": [],
   "source": [
    "def recall_n(X, baseline, n):\n",
    "    assert X.shape == baseline.shape\n",
    "    assert baseline.shape[1] >= n\n",
    "\n",
    "    recall_n = 0\n",
    "    \n",
    "    for i in range(X.shape[0]):\n",
    "        for j in range(n):\n",
    "            if X[i,j] in baseline[i, :n]:\n",
    "                recall_n += 1\n",
    "    \n",
    "    return recall_n / (X.shape[0] * n) * 100\n",
    "\n",
    "def smetric_9(X, baseline):\n",
    "    assert X.shape == baseline.shape\n",
    "    assert baseline.shape[1] >= 9\n",
    "\n",
    "    smetric = 0\n",
    "\n",
    "    for i in range(X.shape[0]):\n",
    "        for j in range(9):\n",
    "            if baseline[i,j] in X[i, :9]:\n",
    "                smetric += 9 - j\n",
    "    \n",
    "    return smetric / X.shape[0]"
   ]
  },
  {
   "cell_type": "code",
   "execution_count": 7,
   "metadata": {},
   "outputs": [],
   "source": [
    "#%%timeit\n",
    "index = faiss.IndexFlatL2(train_data.shape[1])\n",
    "index.train(train_data)\n",
    "index.add(train_data)"
   ]
  },
  {
   "cell_type": "code",
   "execution_count": 8,
   "metadata": {},
   "outputs": [
    {
     "data": {
      "text/plain": [
       "20.361328125"
      ]
     },
     "execution_count": 8,
     "metadata": {},
     "output_type": "execute_result"
    }
   ],
   "source": [
    "codes = faiss.vector_to_array(index.codes)\n",
    "codes.nbytes / (1024 * 1024) #MB"
   ]
  },
  {
   "cell_type": "code",
   "execution_count": 9,
   "metadata": {},
   "outputs": [
    {
     "name": "stdout",
     "output_type": "stream",
     "text": [
      "651 µs ± 768 ns per loop (mean ± std. dev. of 7 runs, 1,000 loops each)\n"
     ]
    }
   ],
   "source": [
    "%%timeit\n",
    "_, closest_baseline = index.search(test_data[0].reshape(1,-1), k=10)"
   ]
  },
  {
   "cell_type": "code",
   "execution_count": 10,
   "metadata": {},
   "outputs": [],
   "source": [
    "#%%timeit\n",
    "_, closest_baseline = index.search(test_data, k=10)"
   ]
  },
  {
   "cell_type": "markdown",
   "metadata": {},
   "source": [
    "## Custom Flat"
   ]
  },
  {
   "cell_type": "code",
   "execution_count": 11,
   "metadata": {},
   "outputs": [
    {
     "name": "stdout",
     "output_type": "stream",
     "text": [
      "4.62 ms ± 6.59 µs per loop (mean ± std. dev. of 7 runs, 100 loops each)\n"
     ]
    }
   ],
   "source": [
    "%%timeit\n",
    "index = CustomIndexFlat(train_data.shape[1])\n",
    "index.train(train_data)\n",
    "index.add(train_data)"
   ]
  },
  {
   "cell_type": "code",
   "execution_count": 12,
   "metadata": {},
   "outputs": [],
   "source": [
    "index = CustomIndexFlat(train_data.shape[1])\n",
    "index.train(train_data)\n",
    "index.add(train_data)"
   ]
  },
  {
   "cell_type": "code",
   "execution_count": 14,
   "metadata": {},
   "outputs": [
    {
     "data": {
      "text/plain": [
       "20.361328125"
      ]
     },
     "execution_count": 14,
     "metadata": {},
     "output_type": "execute_result"
    }
   ],
   "source": [
    "codes = index.codes\n",
    "codes.nbytes / (1024 * 1024) #MB"
   ]
  },
  {
   "cell_type": "code",
   "execution_count": 13,
   "metadata": {},
   "outputs": [
    {
     "name": "stdout",
     "output_type": "stream",
     "text": [
      "23 ms ± 179 µs per loop (mean ± std. dev. of 7 runs, 10 loops each)\n"
     ]
    }
   ],
   "source": [
    "%%timeit\n",
    "_, closest_customflat = index.search(test_data[0].reshape(1,-1), k=10)"
   ]
  },
  {
   "cell_type": "code",
   "execution_count": 14,
   "metadata": {},
   "outputs": [
    {
     "name": "stdout",
     "output_type": "stream",
     "text": [
      "51.6 ms ± 721 µs per loop (mean ± std. dev. of 7 runs, 10 loops each)\n"
     ]
    }
   ],
   "source": [
    "%%timeit\n",
    "_, closest_customflat = index.search(test_data, k=10)"
   ]
  },
  {
   "cell_type": "code",
   "execution_count": 15,
   "metadata": {},
   "outputs": [],
   "source": [
    "_, closest_customflat = index.search(test_data, k=10)"
   ]
  },
  {
   "cell_type": "code",
   "execution_count": 16,
   "metadata": {},
   "outputs": [
    {
     "name": "stdout",
     "output_type": "stream",
     "text": [
      "smetric@9 = 45.00\n",
      "recall@10 = 100.0\n",
      "recall@1 = 100.0\n"
     ]
    }
   ],
   "source": [
    "print(f'smetric@9 = {smetric_9(closest_customflat, closest_baseline):.2f}')\n",
    "print(f'recall@10 = {recall_n(closest_customflat, closest_baseline, 10):.1f}')\n",
    "print(f'recall@1 = {recall_n(closest_customflat, closest_baseline, 1):.1f}')"
   ]
  },
  {
   "cell_type": "markdown",
   "metadata": {},
   "source": [
    "## FAISS PQ"
   ]
  },
  {
   "cell_type": "code",
   "execution_count": 32,
   "metadata": {},
   "outputs": [],
   "source": [
    "#%%timeit\n",
    "index_pq = faiss.IndexPQ(train_data.shape[1], 128, 8)\n",
    "index_pq.train(train_data)\n",
    "index_pq.add(train_data)"
   ]
  },
  {
   "cell_type": "code",
   "execution_count": 33,
   "metadata": {},
   "outputs": [
    {
     "data": {
      "text/plain": [
       "1.69677734375"
      ]
     },
     "execution_count": 33,
     "metadata": {},
     "output_type": "execute_result"
    }
   ],
   "source": [
    "codes = faiss.vector_to_array(index_pq.codes)\n",
    "codes.nbytes / (1024 * 1024) #MB"
   ]
  },
  {
   "cell_type": "code",
   "execution_count": 34,
   "metadata": {},
   "outputs": [
    {
     "name": "stdout",
     "output_type": "stream",
     "text": [
      "929 µs ± 864 ns per loop (mean ± std. dev. of 7 runs, 1,000 loops each)\n"
     ]
    }
   ],
   "source": [
    "%%timeit\n",
    "_, closest_PQ = index_pq.search(test_data[0].reshape(1,-1), k=10)"
   ]
  },
  {
   "cell_type": "code",
   "execution_count": 35,
   "metadata": {},
   "outputs": [],
   "source": [
    "#%%timeit\n",
    "_, closest_PQ = index_pq.search(test_data, k=10)"
   ]
  },
  {
   "cell_type": "code",
   "execution_count": 36,
   "metadata": {},
   "outputs": [
    {
     "name": "stdout",
     "output_type": "stream",
     "text": [
      "smetric@9 = 42.69\n",
      "recall@10 = 87.4\n",
      "recall@1 = 86.9\n"
     ]
    }
   ],
   "source": [
    "print(f'smetric@9 = {smetric_9(closest_PQ, closest_baseline):.2f}')\n",
    "print(f'recall@10 = {recall_n(closest_PQ, closest_baseline, 10):.1f}')\n",
    "print(f'recall@1 = {recall_n(closest_PQ, closest_baseline, 1):.1f}')"
   ]
  },
  {
   "cell_type": "markdown",
   "metadata": {},
   "source": [
    "## CustomPQ"
   ]
  },
  {
   "cell_type": "code",
   "execution_count": 75,
   "metadata": {},
   "outputs": [],
   "source": [
    "#%%timeit\n",
    "index_custompq = CustomIndexPQ(train_data.shape[1], 32, init='random', estimator='minibatchKMeans')\n",
    "index_custompq.train(train_data)\n",
    "index_custompq.add(train_data)"
   ]
  },
  {
   "cell_type": "code",
   "execution_count": 76,
   "metadata": {},
   "outputs": [
    {
     "data": {
      "text/plain": [
       "0.4241943359375"
      ]
     },
     "execution_count": 76,
     "metadata": {},
     "output_type": "execute_result"
    }
   ],
   "source": [
    "codes = index_custompq.codes\n",
    "codes.nbytes / (1024 * 1024) #MB"
   ]
  },
  {
   "cell_type": "code",
   "execution_count": 77,
   "metadata": {},
   "outputs": [
    {
     "name": "stdout",
     "output_type": "stream",
     "text": [
      "6.43 ms ± 4.25 µs per loop (mean ± std. dev. of 7 runs, 100 loops each)\n"
     ]
    }
   ],
   "source": [
    "%%timeit\n",
    "_, closest_PQ = index_custompq.search(test_data[0], k=10)"
   ]
  },
  {
   "cell_type": "code",
   "execution_count": 78,
   "metadata": {},
   "outputs": [],
   "source": [
    "#%%timeit\n",
    "_, closest_PQ = index_custompq.search(test_data, k=10)"
   ]
  },
  {
   "cell_type": "code",
   "execution_count": 79,
   "metadata": {},
   "outputs": [
    {
     "name": "stdout",
     "output_type": "stream",
     "text": [
      "smetric@9 = 32.02\n",
      "recall@10 = 60.3\n",
      "recall@1 = 68.9\n"
     ]
    }
   ],
   "source": [
    "print(f'smetric@9 = {smetric_9(closest_PQ, closest_baseline):.2f}')\n",
    "print(f'recall@10 = {recall_n(closest_PQ, closest_baseline, 10):.1f}')\n",
    "print(f'recall@1 = {recall_n(closest_PQ, closest_baseline, 1):.1f}')"
   ]
  },
  {
   "cell_type": "markdown",
   "metadata": {},
   "source": [
    "## FAISS IVF"
   ]
  },
  {
   "cell_type": "code",
   "execution_count": 12,
   "metadata": {},
   "outputs": [],
   "source": [
    "#%%timeit\n",
    "nlist, nprobe = 256, 32\n",
    "quantizer = faiss.IndexFlatL2(train_data.shape[1])  # the other index\n",
    "index = faiss.IndexIVFFlat(quantizer, train_data.shape[1], nlist, faiss.METRIC_L2)\n",
    "index.nprobe = nprobe\n",
    "\n",
    "index.train(train_data)\n",
    "index.add(train_data)"
   ]
  },
  {
   "cell_type": "code",
   "execution_count": 57,
   "metadata": {},
   "outputs": [
    {
     "ename": "AttributeError",
     "evalue": "'IndexIVFPQ' object has no attribute 'codes'",
     "output_type": "error",
     "traceback": [
      "\u001b[0;31m---------------------------------------------------------------------------\u001b[0m",
      "\u001b[0;31mAttributeError\u001b[0m                            Traceback (most recent call last)",
      "Cell \u001b[0;32mIn[57], line 1\u001b[0m\n\u001b[0;32m----> 1\u001b[0m codes \u001b[38;5;241m=\u001b[39m faiss\u001b[38;5;241m.\u001b[39mvector_to_array(index\u001b[38;5;241m.\u001b[39mcodes)\n\u001b[1;32m      2\u001b[0m codes\u001b[38;5;241m.\u001b[39mnbytes \u001b[38;5;241m/\u001b[39m (\u001b[38;5;241m1024\u001b[39m \u001b[38;5;241m*\u001b[39m \u001b[38;5;241m1024\u001b[39m)\n",
      "\u001b[0;31mAttributeError\u001b[0m: 'IndexIVFPQ' object has no attribute 'codes'"
     ]
    }
   ],
   "source": [
    "codes = faiss.vector_to_array(index.codes)\n",
    "codes.nbytes / (1024 * 1024) #MB"
   ]
  },
  {
   "cell_type": "code",
   "execution_count": 13,
   "metadata": {},
   "outputs": [
    {
     "name": "stdout",
     "output_type": "stream",
     "text": [
      "113 µs ± 49.4 ns per loop (mean ± std. dev. of 7 runs, 10,000 loops each)\n"
     ]
    }
   ],
   "source": [
    "%%timeit\n",
    "_, closest_ivf = index.search(test_data[0].reshape(1,-1), k=10)"
   ]
  },
  {
   "cell_type": "code",
   "execution_count": 157,
   "metadata": {},
   "outputs": [],
   "source": [
    "#%%timeit\n",
    "_, closest_ivf = index.search(test_data, k=10)"
   ]
  },
  {
   "cell_type": "code",
   "execution_count": 158,
   "metadata": {},
   "outputs": [
    {
     "name": "stdout",
     "output_type": "stream",
     "text": [
      "10.4 ms ± 81.6 µs per loop (mean ± std. dev. of 7 runs, 100 loops each)\n"
     ]
    }
   ],
   "source": [
    "%%timeit\n",
    "_, closest_ivf = index.search(test_data, k=10)"
   ]
  },
  {
   "cell_type": "code",
   "execution_count": 159,
   "metadata": {},
   "outputs": [
    {
     "name": "stdout",
     "output_type": "stream",
     "text": [
      "smetric@9 = 44.41\n",
      "recall@10 = 98.0\n",
      "recall@1 = 100.0\n"
     ]
    }
   ],
   "source": [
    "print(f'smetric@9 = {smetric_9(closest_ivf, closest_baseline):.2f}')\n",
    "print(f'recall@10 = {recall_n(closest_ivf, closest_baseline, 10):.1f}')\n",
    "print(f'recall@1 = {recall_n(closest_ivf, closest_baseline, 1):.1f}')"
   ]
  },
  {
   "cell_type": "markdown",
   "metadata": {},
   "source": [
    "## Custom IVF"
   ]
  },
  {
   "cell_type": "code",
   "execution_count": 11,
   "metadata": {},
   "outputs": [],
   "source": [
    "import cProfile"
   ]
  },
  {
   "cell_type": "code",
   "execution_count": 27,
   "metadata": {},
   "outputs": [
    {
     "name": "stdout",
     "output_type": "stream",
     "text": [
      "2.05 s ± 87 ms per loop (mean ± std. dev. of 7 runs, 1 loop each)\n"
     ]
    }
   ],
   "source": [
    "%%timeit\n",
    "index_customivf = CustomOptimizedIndexIVF(d=train_data.shape[1], nlist=100, nprobe=4, init='random', estimator='KMeans')\n",
    "index_customivf.train(train_data)\n",
    "index_customivf.add(train_data)"
   ]
  },
  {
   "cell_type": "code",
   "execution_count": 28,
   "metadata": {},
   "outputs": [],
   "source": [
    "index_customivf = CustomOptimizedIndexIVF(d=train_data.shape[1], nlist=100, nprobe=4, init='random', estimator='KMeans')\n",
    "index_customivf.train(train_data)\n",
    "index_customivf.add(train_data)"
   ]
  },
  {
   "cell_type": "code",
   "execution_count": 29,
   "metadata": {},
   "outputs": [
    {
     "data": {
      "text/plain": [
       "20.361328125"
      ]
     },
     "execution_count": 29,
     "metadata": {},
     "output_type": "execute_result"
    }
   ],
   "source": [
    "nbytes = [x.nbytes for x in index_customivf.codes]\n",
    "sum(nbytes) / (1024 * 1024) #MB"
   ]
  },
  {
   "cell_type": "code",
   "execution_count": 30,
   "metadata": {},
   "outputs": [
    {
     "name": "stdout",
     "output_type": "stream",
     "text": [
      "573 µs ± 141 ns per loop (mean ± std. dev. of 7 runs, 1,000 loops each)\n"
     ]
    }
   ],
   "source": [
    "%%timeit\n",
    "closest_IVF = index_customivf.search(test_data[0], k=10)"
   ]
  },
  {
   "cell_type": "code",
   "execution_count": 31,
   "metadata": {},
   "outputs": [
    {
     "name": "stdout",
     "output_type": "stream",
     "text": [
      "45.1 ms ± 70.9 µs per loop (mean ± std. dev. of 7 runs, 10 loops each)\n"
     ]
    }
   ],
   "source": [
    "%%timeit\n",
    "closest_IVF = index_customivf.search(test_data, k=10)"
   ]
  },
  {
   "cell_type": "code",
   "execution_count": 32,
   "metadata": {},
   "outputs": [],
   "source": [
    "closest_IVF = index_customivf.search(test_data, k=10)"
   ]
  },
  {
   "cell_type": "code",
   "execution_count": 33,
   "metadata": {},
   "outputs": [
    {
     "name": "stdout",
     "output_type": "stream",
     "text": [
      "smetric@9 = 38.26\n",
      "recall@10 = 83.1\n",
      "recall@1 = 85.2\n"
     ]
    }
   ],
   "source": [
    "print(f'smetric@9 = {smetric_9(closest_IVF, closest_baseline):.2f}')\n",
    "print(f'recall@10 = {recall_n(closest_IVF, closest_baseline, 10):.1f}')\n",
    "print(f'recall@1 = {recall_n(closest_IVF, closest_baseline, 1):.1f}')"
   ]
  },
  {
   "cell_type": "markdown",
   "metadata": {},
   "source": [
    "## FAISS IVFPQ"
   ]
  },
  {
   "cell_type": "code",
   "execution_count": 42,
   "metadata": {},
   "outputs": [
    {
     "data": {
      "text/plain": [
       "(2,)"
      ]
     },
     "execution_count": 42,
     "metadata": {},
     "output_type": "execute_result"
    }
   ],
   "source": [
    "o2.shape"
   ]
  },
  {
   "cell_type": "code",
   "execution_count": 55,
   "metadata": {},
   "outputs": [
    {
     "data": {
      "text/plain": [
       "array([[0., 1.]])"
      ]
     },
     "execution_count": 55,
     "metadata": {},
     "output_type": "execute_result"
    }
   ],
   "source": [
    "o2"
   ]
  },
  {
   "cell_type": "code",
   "execution_count": 57,
   "metadata": {},
   "outputs": [
    {
     "data": {
      "text/plain": [
       "array([[2.]])"
      ]
     },
     "execution_count": 57,
     "metadata": {},
     "output_type": "execute_result"
    }
   ],
   "source": [
    "i2 = np.eye(2)[:1]\n",
    "o2 = 1-i2\n",
    "cdist(o2, i2, metric='seuclidean')"
   ]
  },
  {
   "cell_type": "code",
   "execution_count": 67,
   "metadata": {},
   "outputs": [
    {
     "name": "stderr",
     "output_type": "stream",
     "text": [
      "WARNING clustering 13900 points to 1024 centroids: please provide at least 39936 training points\n"
     ]
    }
   ],
   "source": [
    "#%%timeit\n",
    "nlist, nprobe, m = 1024, 128, 384\n",
    "quantizer = faiss.IndexFlatL2(train_data.shape[1])  # the other index\n",
    "index = faiss.IndexIVFPQ(quantizer, train_data.shape[1], nlist, m, 8)\n",
    "index.nprobe = nprobe\n",
    "\n",
    "index.train(train_data)\n",
    "index.add(train_data)"
   ]
  },
  {
   "cell_type": "code",
   "execution_count": 70,
   "metadata": {},
   "outputs": [
    {
     "name": "stdout",
     "output_type": "stream",
     "text": [
      "6.09 ms ± 4.76 µs per loop (mean ± std. dev. of 7 runs, 100 loops each)\n"
     ]
    }
   ],
   "source": [
    "%%timeit\n",
    "_, closest_ivf = index.search(test_data[0].reshape(1,-1), k=10)"
   ]
  },
  {
   "cell_type": "code",
   "execution_count": 55,
   "metadata": {},
   "outputs": [
    {
     "name": "stdout",
     "output_type": "stream",
     "text": [
      "580 µs ± 83.7 µs per loop (mean ± std. dev. of 7 runs, 1,000 loops each)\n"
     ]
    }
   ],
   "source": [
    "%%timeit\n",
    "_, closest_ivf = index.search(test_data, k=10)"
   ]
  },
  {
   "cell_type": "code",
   "execution_count": 68,
   "metadata": {},
   "outputs": [],
   "source": [
    "_, closest_ivf = index.search(test_data, k=10)"
   ]
  },
  {
   "cell_type": "code",
   "execution_count": 69,
   "metadata": {},
   "outputs": [
    {
     "name": "stdout",
     "output_type": "stream",
     "text": [
      "smetric@9 = 44.72\n",
      "recall@10 = 98.5\n",
      "recall@1 = 100.0\n"
     ]
    }
   ],
   "source": [
    "print(f'smetric@9 = {smetric_9(closest_ivf, closest_baseline):.2f}')\n",
    "print(f'recall@10 = {recall_n(closest_ivf, closest_baseline, 10):.1f}')\n",
    "print(f'recall@1 = {recall_n(closest_ivf, closest_baseline, 1):.1f}')"
   ]
  },
  {
   "cell_type": "markdown",
   "metadata": {},
   "source": [
    "## TBD"
   ]
  },
  {
   "cell_type": "code",
   "execution_count": 25,
   "metadata": {},
   "outputs": [],
   "source": [
    "import numpy as np\n",
    "from sklearn.cluster import KMeans, MiniBatchKMeans\n",
    "from sklearn.metrics.pairwise import euclidean_distances"
   ]
  },
  {
   "cell_type": "code",
   "execution_count": 91,
   "metadata": {},
   "outputs": [],
   "source": [
    "class CustomIndexIVF:\n",
    "    \"\"\" Custom implementation of IVF Index \n",
    "    d: size of original embeddings\n",
    "    nlist: number of centroids to build\n",
    "    nprobe: number of closest-neighbor centroids to visit during search\n",
    "    estimator_kwargs: Additional hyperparameters passed onto the sklearn KMeans/MiniBatchKMeans class\n",
    "    \"\"\"\n",
    "\n",
    "    def __init__(self, d, nlist, nprobe, estimator='KMeans', **estimator_kwargs):\n",
    "        # self.m = m\n",
    "        # self.k = 2**8       # nb of clusters per segment\n",
    "        # self.ds = d // m\n",
    "        # self.codes = None\n",
    "\n",
    "        self.d = d\n",
    "        self.nlist = nlist\n",
    "        self.nprobe = nprobe\n",
    "\n",
    "        self.centroids = None\n",
    "        self.labels = None\n",
    "        self.codes = None\n",
    "\n",
    "        if estimator.lower() == 'kmeans':\n",
    "            self.estimator = KMeans(n_clusters=self.nlist, **estimator_kwargs)\n",
    "        elif estimator.lower() == 'minibatchkmeans':\n",
    "            self.estimator = MiniBatchKMeans(n_clusters=self.nlist, **estimator_kwargs)\n",
    "        else:\n",
    "            raise ValueError(f\"Unknown estimator `{estimator}`. Choose from [`KMeans`, `MiniBatchKMeans`].\")\n",
    "\n",
    "        self.is_trained = False\n",
    "\n",
    "    \n",
    "    def train(self, X):\n",
    "        assert not self.is_trained, \"estimator is already trained\"\n",
    "\n",
    "        self.estimator.fit(X)\n",
    "\n",
    "        self.centroids = self.estimator.cluster_centers_\n",
    "\n",
    "        self.is_trained = True\n",
    "\n",
    "\n",
    "    def add(self, X):\n",
    "        assert self.is_trained, \"estimator has to be trained\"\n",
    "\n",
    "        self.codes = X\n",
    "        self.labels = self.estimator.predict(X)\n",
    "    \n",
    "    \n",
    "    def find_closest_centroids(self, Y):\n",
    "        assert self.centroids is not None, \"need to run `train` first, to train and learn centroids\"\n",
    "\n",
    "        distances_to_centroids = euclidean_distances(Y, self.centroids, squared=True)\n",
    "        closest_centroids_indices = np.argsort(distances_to_centroids, axis=1)[:, :self.nprobe]\n",
    "        return closest_centroids_indices\n",
    "\n",
    "\n",
    "    def aggregate_vectors(self, centroids_indices):\n",
    "        assert self.codes is not None, \"need to run `add` first to learn labels and codes\"\n",
    "\n",
    "        X = []\n",
    "        indices = []\n",
    "\n",
    "        for i in range(len(centroids_indices)):\n",
    "            X_i = np.empty((0, self.d))\n",
    "            indices_i = []\n",
    "\n",
    "            for j in range(len(self.codes)):\n",
    "                if self.labels[j] in centroids_indices[i]:\n",
    "                    X_i = np.vstack((X_i, self.codes[j, :]))\n",
    "                    indices_i.append(j)\n",
    "\n",
    "            X.append(X_i)\n",
    "            indices.append(indices_i)\n",
    "\n",
    "        return indices, X\n",
    "\n",
    "\n",
    "    def search(self, Y, k):\n",
    "        Y = np.atleast_2d(Y)\n",
    "\n",
    "        centroids_to_explore = self.find_closest_centroids(Y)\n",
    "\n",
    "        indices, X = self.aggregate_vectors(centroids_to_explore)\n",
    "\n",
    "        distances = []\n",
    "        closest_indices = []\n",
    "\n",
    "        for i in range(Y.shape[0]):\n",
    "            distances.append(euclidean_distances(Y[i, :].reshape(1,-1), X[i], squared=True))\n",
    "            closest_indices.append([indices[i][idx] for idx in np.argsort(distances[i], axis=1)[:, :k][0]])\n",
    "\n",
    "        closest_indices = np.stack(closest_indices)\n",
    "\n",
    "        return closest_indices\n"
   ]
  },
  {
   "cell_type": "code",
   "execution_count": 92,
   "metadata": {},
   "outputs": [],
   "source": [
    "idx = CustomIndexIVF(d=384, nlist=256, nprobe=10, estimator='KMeans')"
   ]
  },
  {
   "cell_type": "code",
   "execution_count": 93,
   "metadata": {},
   "outputs": [],
   "source": [
    "idx.train(train_data)\n",
    "idx.add(train_data)"
   ]
  },
  {
   "cell_type": "code",
   "execution_count": 96,
   "metadata": {},
   "outputs": [
    {
     "data": {
      "text/plain": [
       "array([[    0,   218,   222,    16,     5,   234,     2,     4, 11538,\n",
       "         4603],\n",
       "       [    1,   219,   233,   234,    13,    15,    16,  5986,  5985,\n",
       "           12],\n",
       "       [    2,   220,     0,   234,    16,  4102,   222,   218,  5985,\n",
       "         4101]])"
      ]
     },
     "execution_count": 96,
     "metadata": {},
     "output_type": "execute_result"
    }
   ],
   "source": [
    "i=idx.search(train_data[:3], k=10)\n",
    "i"
   ]
  },
  {
   "cell_type": "code",
   "execution_count": 9,
   "metadata": {},
   "outputs": [],
   "source": [
    "index_custompq = CustomIndexPQ(train_data.shape[1], 2, init='random', estimator='KMeans')\n",
    "index_custompq.train(train_data)\n",
    "index_custompq.add(train_data)"
   ]
  },
  {
   "cell_type": "code",
   "execution_count": 10,
   "metadata": {},
   "outputs": [
    {
     "name": "stdout",
     "output_type": "stream",
     "text": [
      "(2, 384) (256, 192)\n",
      "(2, 384) (256, 192)\n"
     ]
    },
    {
     "data": {
      "text/plain": [
       "(array([[0.5182861 , 0.5457897 , 0.55056983, 0.5727137 ],\n",
       "        [0.64131856, 0.64131856, 0.64131856, 0.64131856]], dtype=float32),\n",
       " array([[ 2235, 12181,  9786,  2332],\n",
       "        [ 7913,  5802,  7064,  6911]]))"
      ]
     },
     "execution_count": 10,
     "metadata": {},
     "output_type": "execute_result"
    }
   ],
   "source": [
    "index_custompq.search(test_data[:2],k=4)"
   ]
  },
  {
   "cell_type": "code",
   "execution_count": 58,
   "metadata": {},
   "outputs": [
    {
     "name": "stdout",
     "output_type": "stream",
     "text": [
      "[[1. 2. 3.]\n",
      " [4. 5. 6.]\n",
      " [7. 8. 9.]]\n"
     ]
    }
   ],
   "source": [
    "arr = np.empty((0, 3))\n",
    "\n",
    "# Stack new data onto the array\n",
    "arr = np.vstack((arr, [1, 2, 3]))\n",
    "arr = np.vstack((arr, [4, 5, 6]))\n",
    "arr = np.vstack((arr, [7, 8, 9]))\n",
    "\n",
    "# Print the final array\n",
    "print(arr)"
   ]
  }
 ],
 "metadata": {
  "kernelspec": {
   "display_name": "rag_poc",
   "language": "python",
   "name": "python3"
  },
  "language_info": {
   "codemirror_mode": {
    "name": "ipython",
    "version": 3
   },
   "file_extension": ".py",
   "mimetype": "text/x-python",
   "name": "python",
   "nbconvert_exporter": "python",
   "pygments_lexer": "ipython3",
   "version": "3.12.2"
  }
 },
 "nbformat": 4,
 "nbformat_minor": 2
}
