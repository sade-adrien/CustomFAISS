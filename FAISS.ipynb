{
 "cells": [
  {
   "cell_type": "code",
   "execution_count": 1,
   "metadata": {},
   "outputs": [],
   "source": [
    "import os\n",
    "os.environ['CUDA_VISIBLE_DEVICES'] = \"\""
   ]
  },
  {
   "cell_type": "code",
   "execution_count": 2,
   "metadata": {},
   "outputs": [],
   "source": [
    "from langchain.embeddings import HuggingFaceEmbeddings\n",
    "from CustomFAISS import *\n",
    "import pandas as pd\n",
    "import numpy as np\n",
    "import faiss"
   ]
  },
  {
   "cell_type": "code",
   "execution_count": 3,
   "metadata": {},
   "outputs": [
    {
     "data": {
      "text/plain": [
       "5.7220458984375"
      ]
     },
     "execution_count": 3,
     "metadata": {},
     "output_type": "execute_result"
    }
   ],
   "source": [
    "# data = pd.read_csv('embeddings_maths.csv', usecols=[i for i in range(2, 386)]).to_numpy()\n",
    "# train_data = data[:13900, :]\n",
    "# test_data = data[13900:, :]\n",
    "\n",
    "data = np.load('embeddings1M.npy')\n",
    "train_data = data[:999_950, :]\n",
    "test_data = data[999_950:, :]\n",
    "\n",
    "data.nbytes / (1024 * 1024 * 1024) #GB"
   ]
  },
  {
   "cell_type": "code",
   "execution_count": 4,
   "metadata": {},
   "outputs": [],
   "source": [
    "model_path = \"sentence-transformers/all-MiniLM-l6-v2\"\n",
    "\n",
    "model = HuggingFaceEmbeddings(\n",
    "                            model_name=model_path,\n",
    "                            model_kwargs={'device': 'cpu'},\n",
    "                            )"
   ]
  },
  {
   "cell_type": "markdown",
   "metadata": {},
   "source": [
    "## FAISS Baseline"
   ]
  },
  {
   "cell_type": "code",
   "execution_count": 4,
   "metadata": {},
   "outputs": [],
   "source": [
    "def recall_n(X, baseline, n):\n",
    "    assert X.shape == baseline.shape\n",
    "    assert baseline.shape[1] >= n\n",
    "\n",
    "    recall_n = 0\n",
    "    \n",
    "    for i in range(X.shape[0]):\n",
    "        for j in range(n):\n",
    "            if X[i,j] in baseline[i, :n]:\n",
    "                recall_n += 1\n",
    "    \n",
    "    return recall_n / (X.shape[0] * n) * 100\n",
    "\n",
    "def smetric_9(X, baseline):\n",
    "    assert X.shape == baseline.shape\n",
    "    assert baseline.shape[1] >= 9\n",
    "\n",
    "    smetric = 0\n",
    "\n",
    "    for i in range(X.shape[0]):\n",
    "        for j in range(9):\n",
    "            if baseline[i,j] in X[i, :9]:\n",
    "                smetric += 9 - j\n",
    "    \n",
    "    return smetric / X.shape[0]"
   ]
  },
  {
   "cell_type": "code",
   "execution_count": 5,
   "metadata": {},
   "outputs": [],
   "source": [
    "#%%timeit\n",
    "index = faiss.IndexFlatL2(train_data.shape[1])\n",
    "index.train(train_data)\n",
    "index.add(train_data)"
   ]
  },
  {
   "cell_type": "code",
   "execution_count": 5,
   "metadata": {},
   "outputs": [],
   "source": [
    "#%%timeit\n",
    "index = faiss.IndexFlatIP(train_data.shape[1])\n",
    "index.train(train_data)\n",
    "index.add(train_data)"
   ]
  },
  {
   "cell_type": "code",
   "execution_count": 6,
   "metadata": {},
   "outputs": [
    {
     "data": {
      "text/plain": [
       "2.860879898071289"
      ]
     },
     "execution_count": 6,
     "metadata": {},
     "output_type": "execute_result"
    }
   ],
   "source": [
    "codes = faiss.vector_to_array(index.codes)\n",
    "codes.nbytes / (1024 * 1024 * 1024) #MB"
   ]
  },
  {
   "cell_type": "code",
   "execution_count": 8,
   "metadata": {},
   "outputs": [
    {
     "name": "stdout",
     "output_type": "stream",
     "text": [
      "240 ms ± 1.23 ms per loop (mean ± std. dev. of 7 runs, 1 loop each)\n"
     ]
    }
   ],
   "source": [
    "%%timeit\n",
    "_, closest_baseline = index.search(test_data[0].reshape(1,-1), k=10)"
   ]
  },
  {
   "cell_type": "code",
   "execution_count": 10,
   "metadata": {},
   "outputs": [],
   "source": [
    "#%%timeit\n",
    "_, closest_baseline = index.search(test_data, k=10)"
   ]
  },
  {
   "cell_type": "markdown",
   "metadata": {},
   "source": [
    "## Custom Flat"
   ]
  },
  {
   "cell_type": "code",
   "execution_count": 9,
   "metadata": {},
   "outputs": [
    {
     "name": "stdout",
     "output_type": "stream",
     "text": [
      "1.21 s ± 9.76 ms per loop (mean ± std. dev. of 7 runs, 1 loop each)\n"
     ]
    }
   ],
   "source": [
    "%%timeit\n",
    "index = CustomIndexFlat(train_data.shape[1])\n",
    "index.train(train_data)\n",
    "index.add(train_data)"
   ]
  },
  {
   "cell_type": "code",
   "execution_count": 14,
   "metadata": {},
   "outputs": [],
   "source": [
    "index = CustomIndexFlat(train_data.shape[1])\n",
    "index.train(train_data)\n",
    "index.add(train_data)"
   ]
  },
  {
   "cell_type": "code",
   "execution_count": 11,
   "metadata": {},
   "outputs": [
    {
     "data": {
      "text/plain": [
       "2.860879898071289"
      ]
     },
     "execution_count": 11,
     "metadata": {},
     "output_type": "execute_result"
    }
   ],
   "source": [
    "codes = index.codes\n",
    "codes.nbytes / (1024 * 1024 * 1024) #GB"
   ]
  },
  {
   "cell_type": "code",
   "execution_count": 16,
   "metadata": {},
   "outputs": [],
   "source": [
    "#%%timeit\n",
    "_, closest_customflat = index.search(test_data[0].reshape(1,-1), k=10)"
   ]
  },
  {
   "cell_type": "code",
   "execution_count": null,
   "metadata": {},
   "outputs": [],
   "source": [
    "%%timeit\n",
    "_, closest_customflat = index.search(test_data, k=10)"
   ]
  },
  {
   "cell_type": "code",
   "execution_count": 15,
   "metadata": {},
   "outputs": [],
   "source": [
    "_, closest_customflat = index.search(test_data, k=10)"
   ]
  },
  {
   "cell_type": "code",
   "execution_count": 13,
   "metadata": {},
   "outputs": [
    {
     "name": "stdout",
     "output_type": "stream",
     "text": [
      "smetric@9 = 44.96\n",
      "recall@10 = 99.0\n",
      "recall@1 = 100.0\n"
     ]
    }
   ],
   "source": [
    "print(f'smetric@9 = {smetric_9(closest_customflat, closest_baseline):.2f}')\n",
    "print(f'recall@10 = {recall_n(closest_customflat, closest_baseline, 10):.1f}')\n",
    "print(f'recall@1 = {recall_n(closest_customflat, closest_baseline, 1):.1f}')"
   ]
  },
  {
   "cell_type": "markdown",
   "metadata": {},
   "source": [
    "## FAISS PQ"
   ]
  },
  {
   "cell_type": "code",
   "execution_count": 16,
   "metadata": {},
   "outputs": [],
   "source": [
    "#%%timeit\n",
    "index_pq = faiss.IndexPQ(train_data.shape[1], 48, 8)\n",
    "index_pq.train(train_data)\n",
    "index_pq.add(train_data)"
   ]
  },
  {
   "cell_type": "code",
   "execution_count": 17,
   "metadata": {},
   "outputs": [
    {
     "data": {
      "text/plain": [
       "0.04470124840736389"
      ]
     },
     "execution_count": 17,
     "metadata": {},
     "output_type": "execute_result"
    }
   ],
   "source": [
    "codes = faiss.vector_to_array(index_pq.codes)\n",
    "codes.nbytes / (1024 * 1024 * 1024) #GB"
   ]
  },
  {
   "cell_type": "code",
   "execution_count": 18,
   "metadata": {},
   "outputs": [
    {
     "name": "stdout",
     "output_type": "stream",
     "text": [
      "21 ms ± 790 µs per loop (mean ± std. dev. of 7 runs, 10 loops each)\n"
     ]
    }
   ],
   "source": [
    "%%timeit\n",
    "_, closest_PQ = index_pq.search(test_data[0].reshape(1,-1), k=10)"
   ]
  },
  {
   "cell_type": "code",
   "execution_count": 21,
   "metadata": {},
   "outputs": [
    {
     "name": "stdout",
     "output_type": "stream",
     "text": [
      "45.5 ms ± 447 µs per loop (mean ± std. dev. of 7 runs, 10 loops each)\n"
     ]
    }
   ],
   "source": [
    "#%%timeit\n",
    "_, closest_PQ = index_pq.search(test_data, k=10)"
   ]
  },
  {
   "cell_type": "code",
   "execution_count": 20,
   "metadata": {},
   "outputs": [
    {
     "name": "stdout",
     "output_type": "stream",
     "text": [
      "smetric@9 = 31.30\n",
      "recall@10 = 60.8\n",
      "recall@1 = 54.0\n"
     ]
    }
   ],
   "source": [
    "print(f'smetric@9 = {smetric_9(closest_PQ, closest_baseline):.2f}')\n",
    "print(f'recall@10 = {recall_n(closest_PQ, closest_baseline, 10):.1f}')\n",
    "print(f'recall@1 = {recall_n(closest_PQ, closest_baseline, 1):.1f}')"
   ]
  },
  {
   "cell_type": "markdown",
   "metadata": {},
   "source": [
    "## CustomPQ"
   ]
  },
  {
   "cell_type": "code",
   "execution_count": 22,
   "metadata": {},
   "outputs": [],
   "source": [
    "#%%timeit\n",
    "index_custompq = CustomIndexPQ(train_data.shape[1], 48, init='random', estimator='minibatchKMeans')\n",
    "index_custompq.train(train_data)\n",
    "index_custompq.add(train_data)"
   ]
  },
  {
   "cell_type": "code",
   "execution_count": 24,
   "metadata": {},
   "outputs": [
    {
     "data": {
      "text/plain": [
       "0.04470124840736389"
      ]
     },
     "execution_count": 24,
     "metadata": {},
     "output_type": "execute_result"
    }
   ],
   "source": [
    "codes = index_custompq.codes\n",
    "codes.nbytes / (1024 * 1024 * 1024) #GB"
   ]
  },
  {
   "cell_type": "code",
   "execution_count": 25,
   "metadata": {},
   "outputs": [
    {
     "name": "stdout",
     "output_type": "stream",
     "text": [
      "336 ms ± 254 µs per loop (mean ± std. dev. of 7 runs, 1 loop each)\n"
     ]
    }
   ],
   "source": [
    "%%timeit\n",
    "_, closest_PQ = index_custompq.search(test_data[0], k=10)"
   ]
  },
  {
   "cell_type": "code",
   "execution_count": 26,
   "metadata": {},
   "outputs": [],
   "source": [
    "#%%timeit\n",
    "_, closest_PQ = index_custompq.search(test_data, k=10)"
   ]
  },
  {
   "cell_type": "code",
   "execution_count": 27,
   "metadata": {},
   "outputs": [
    {
     "name": "stdout",
     "output_type": "stream",
     "text": [
      "smetric@9 = 30.34\n",
      "recall@10 = 60.2\n",
      "recall@1 = 46.0\n"
     ]
    }
   ],
   "source": [
    "print(f'smetric@9 = {smetric_9(closest_PQ, closest_baseline):.2f}')\n",
    "print(f'recall@10 = {recall_n(closest_PQ, closest_baseline, 10):.1f}')\n",
    "print(f'recall@1 = {recall_n(closest_PQ, closest_baseline, 1):.1f}')"
   ]
  },
  {
   "cell_type": "markdown",
   "metadata": {},
   "source": [
    "## FAISS IVF"
   ]
  },
  {
   "cell_type": "code",
   "execution_count": 14,
   "metadata": {},
   "outputs": [],
   "source": [
    "#%%timeit\n",
    "nlist, nprobe = 256, 32\n",
    "quantizer = faiss.IndexFlatL2(train_data.shape[1])  # the other index\n",
    "index = faiss.IndexIVFFlat(quantizer, train_data.shape[1], nlist, faiss.METRIC_L2)\n",
    "index.nprobe = nprobe\n",
    "\n",
    "index.train(train_data)\n",
    "index.add(train_data)"
   ]
  },
  {
   "cell_type": "code",
   "execution_count": 19,
   "metadata": {},
   "outputs": [],
   "source": [
    "#%%timeit\n",
    "nlist, nprobe = 256, 32\n",
    "quantizer = faiss.IndexFlatIP(train_data.shape[1])  # the other index\n",
    "index = faiss.IndexIVFFlat(quantizer, train_data.shape[1], nlist, faiss.METRIC_INNER_PRODUCT)\n",
    "index.nprobe = nprobe\n",
    "\n",
    "index.train(train_data)\n",
    "index.add(train_data)"
   ]
  },
  {
   "cell_type": "code",
   "execution_count": null,
   "metadata": {},
   "outputs": [],
   "source": [
    "codes = faiss.vector_to_array(index.codes)\n",
    "codes.nbytes / (1024 * 1024 * 1024) #GB"
   ]
  },
  {
   "cell_type": "code",
   "execution_count": 22,
   "metadata": {},
   "outputs": [
    {
     "name": "stdout",
     "output_type": "stream",
     "text": [
      "29.2 ms ± 17.6 µs per loop (mean ± std. dev. of 7 runs, 10 loops each)\n"
     ]
    }
   ],
   "source": [
    "%%timeit\n",
    "_, closest_ivf = index.search(test_data[0].reshape(1,-1), k=10)"
   ]
  },
  {
   "cell_type": "code",
   "execution_count": 23,
   "metadata": {},
   "outputs": [
    {
     "name": "stdout",
     "output_type": "stream",
     "text": [
      "134 ms ± 1.73 ms per loop (mean ± std. dev. of 7 runs, 10 loops each)\n"
     ]
    }
   ],
   "source": [
    "%%timeit\n",
    "_, closest_ivf = index.search(test_data, k=10)"
   ]
  },
  {
   "cell_type": "code",
   "execution_count": 24,
   "metadata": {},
   "outputs": [],
   "source": [
    "_, closest_ivf = index.search(test_data, k=10)"
   ]
  },
  {
   "cell_type": "code",
   "execution_count": 25,
   "metadata": {},
   "outputs": [
    {
     "name": "stdout",
     "output_type": "stream",
     "text": [
      "smetric@9 = 43.66\n",
      "recall@10 = 96.4\n",
      "recall@1 = 96.0\n"
     ]
    }
   ],
   "source": [
    "print(f'smetric@9 = {smetric_9(closest_ivf, closest_baseline):.2f}')\n",
    "print(f'recall@10 = {recall_n(closest_ivf, closest_baseline, 10):.1f}')\n",
    "print(f'recall@1 = {recall_n(closest_ivf, closest_baseline, 1):.1f}')"
   ]
  },
  {
   "cell_type": "markdown",
   "metadata": {},
   "source": [
    "## Custom IVF"
   ]
  },
  {
   "cell_type": "code",
   "execution_count": 16,
   "metadata": {},
   "outputs": [],
   "source": [
    "import cProfile"
   ]
  },
  {
   "cell_type": "code",
   "execution_count": 10,
   "metadata": {},
   "outputs": [],
   "source": [
    "#%%timeit\n",
    "index_customivf = CustomOptimizedIndexIVF(d=train_data.shape[1], nlist=256, nprobe=32, pca_dim=384, init='random', estimator='minibatchKMeans')\n",
    "index_customivf.train(train_data)\n",
    "index_customivf.add(train_data)"
   ]
  },
  {
   "cell_type": "code",
   "execution_count": 11,
   "metadata": {},
   "outputs": [
    {
     "data": {
      "text/plain": [
       "1.4304399490356445"
      ]
     },
     "execution_count": 11,
     "metadata": {},
     "output_type": "execute_result"
    }
   ],
   "source": [
    "nbytes = [x.nbytes for x in index_customivf.codes]\n",
    "sum(nbytes) / (1024 * 1024 * 1024) #GB"
   ]
  },
  {
   "cell_type": "code",
   "execution_count": 12,
   "metadata": {},
   "outputs": [
    {
     "name": "stdout",
     "output_type": "stream",
     "text": [
      "439 ms ± 144 µs per loop (mean ± std. dev. of 7 runs, 1 loop each)\n"
     ]
    }
   ],
   "source": [
    "%%timeit\n",
    "closest_IVF = index_customivf.search(test_data[0], k=10)"
   ]
  },
  {
   "cell_type": "code",
   "execution_count": 14,
   "metadata": {},
   "outputs": [
    {
     "name": "stdout",
     "output_type": "stream",
     "text": [
      "6.97 s ± 12.5 ms per loop (mean ± std. dev. of 7 runs, 1 loop each)\n"
     ]
    }
   ],
   "source": [
    "%%timeit\n",
    "closest_IVF = index_customivf.search(test_data, k=10)"
   ]
  },
  {
   "cell_type": "code",
   "execution_count": 13,
   "metadata": {},
   "outputs": [],
   "source": [
    "closest_IVF = index_customivf.search(test_data, k=10)"
   ]
  },
  {
   "cell_type": "code",
   "execution_count": 14,
   "metadata": {},
   "outputs": [
    {
     "name": "stdout",
     "output_type": "stream",
     "text": [
      "smetric@9 = 43.86\n",
      "recall@10 = 94.6\n",
      "recall@1 = 94.0\n"
     ]
    }
   ],
   "source": [
    "print(f'smetric@9 = {smetric_9(closest_IVF, closest_baseline):.2f}')\n",
    "print(f'recall@10 = {recall_n(closest_IVF, closest_baseline, 10):.1f}')\n",
    "print(f'recall@1 = {recall_n(closest_IVF, closest_baseline, 1):.1f}')"
   ]
  },
  {
   "cell_type": "markdown",
   "metadata": {},
   "source": [
    "## FAISS IVFPQ"
   ]
  },
  {
   "cell_type": "code",
   "execution_count": 67,
   "metadata": {},
   "outputs": [
    {
     "name": "stderr",
     "output_type": "stream",
     "text": [
      "WARNING clustering 13900 points to 1024 centroids: please provide at least 39936 training points\n"
     ]
    }
   ],
   "source": [
    "#%%timeit\n",
    "nlist, nprobe, m = 1024, 128, 384\n",
    "quantizer = faiss.IndexFlatL2(train_data.shape[1])  # the other index\n",
    "index = faiss.IndexIVFPQ(quantizer, train_data.shape[1], nlist, m, 8)\n",
    "index.nprobe = nprobe\n",
    "\n",
    "index.train(train_data)\n",
    "index.add(train_data)"
   ]
  },
  {
   "cell_type": "code",
   "execution_count": 70,
   "metadata": {},
   "outputs": [
    {
     "name": "stdout",
     "output_type": "stream",
     "text": [
      "6.09 ms ± 4.76 µs per loop (mean ± std. dev. of 7 runs, 100 loops each)\n"
     ]
    }
   ],
   "source": [
    "%%timeit\n",
    "_, closest_ivf = index.search(test_data[0].reshape(1,-1), k=10)"
   ]
  },
  {
   "cell_type": "code",
   "execution_count": 55,
   "metadata": {},
   "outputs": [
    {
     "name": "stdout",
     "output_type": "stream",
     "text": [
      "580 µs ± 83.7 µs per loop (mean ± std. dev. of 7 runs, 1,000 loops each)\n"
     ]
    }
   ],
   "source": [
    "%%timeit\n",
    "_, closest_ivf = index.search(test_data, k=10)"
   ]
  },
  {
   "cell_type": "code",
   "execution_count": 68,
   "metadata": {},
   "outputs": [],
   "source": [
    "_, closest_ivf = index.search(test_data, k=10)"
   ]
  },
  {
   "cell_type": "code",
   "execution_count": 69,
   "metadata": {},
   "outputs": [
    {
     "name": "stdout",
     "output_type": "stream",
     "text": [
      "smetric@9 = 44.72\n",
      "recall@10 = 98.5\n",
      "recall@1 = 100.0\n"
     ]
    }
   ],
   "source": [
    "print(f'smetric@9 = {smetric_9(closest_ivf, closest_baseline):.2f}')\n",
    "print(f'recall@10 = {recall_n(closest_ivf, closest_baseline, 10):.1f}')\n",
    "print(f'recall@1 = {recall_n(closest_ivf, closest_baseline, 1):.1f}')"
   ]
  },
  {
   "cell_type": "markdown",
   "metadata": {},
   "source": [
    "## Faiss PQ w/ OPQ"
   ]
  },
  {
   "cell_type": "code",
   "execution_count": 47,
   "metadata": {},
   "outputs": [],
   "source": [
    "index = faiss.index_factory(train_data.shape[1], \"OPQ32,PQ32\")\n",
    "\n",
    "index.train(train_data)\n",
    "index.add(train_data)"
   ]
  },
  {
   "cell_type": "code",
   "execution_count": 49,
   "metadata": {},
   "outputs": [
    {
     "name": "stdout",
     "output_type": "stream",
     "text": [
      "14.6 ms ± 130 µs per loop (mean ± std. dev. of 7 runs, 100 loops each)\n"
     ]
    }
   ],
   "source": [
    "%%timeit\n",
    "_, closest_PQ = index.search(test_data[0].reshape(1,-1), k=10)"
   ]
  },
  {
   "cell_type": "code",
   "execution_count": 52,
   "metadata": {},
   "outputs": [
    {
     "name": "stdout",
     "output_type": "stream",
     "text": [
      "32.4 ms ± 345 µs per loop (mean ± std. dev. of 7 runs, 10 loops each)\n"
     ]
    }
   ],
   "source": [
    "%%timeit\n",
    "_, closest_PQ = index.search(test_data, k=10)"
   ]
  },
  {
   "cell_type": "code",
   "execution_count": 53,
   "metadata": {},
   "outputs": [
    {
     "name": "stdout",
     "output_type": "stream",
     "text": [
      "smetric@9 = 31.28\n",
      "recall@10 = 58.4\n",
      "recall@1 = 56.0\n"
     ]
    }
   ],
   "source": [
    "print(f'smetric@9 = {smetric_9(closest_PQ, closest_baseline):.2f}')\n",
    "print(f'recall@10 = {recall_n(closest_PQ, closest_baseline, 10):.1f}')\n",
    "print(f'recall@1 = {recall_n(closest_PQ, closest_baseline, 1):.1f}')"
   ]
  },
  {
   "cell_type": "markdown",
   "metadata": {},
   "source": [
    "## Custom IVF IP"
   ]
  },
  {
   "cell_type": "code",
   "execution_count": null,
   "metadata": {},
   "outputs": [],
   "source": [
    "#%%timeit\n",
    "index_customivf = CustomOptimizedIndexIVF_IP(d=train_data.shape[1], nlist=256, nprobe=32, pca_dim=384, init='random', estimator='minibatchKMeans')\n",
    "index_customivf.train(train_data)\n",
    "index_customivf.add(train_data)"
   ]
  },
  {
   "cell_type": "code",
   "execution_count": 33,
   "metadata": {},
   "outputs": [
    {
     "data": {
      "text/plain": [
       "1.4304399490356445"
      ]
     },
     "execution_count": 33,
     "metadata": {},
     "output_type": "execute_result"
    }
   ],
   "source": [
    "nbytes = [x.nbytes for x in index_customivf.codes]\n",
    "sum(nbytes) / (1024 * 1024 * 1024) #GB"
   ]
  },
  {
   "cell_type": "code",
   "execution_count": 34,
   "metadata": {},
   "outputs": [
    {
     "name": "stdout",
     "output_type": "stream",
     "text": [
      "80.2 ms ± 2.59 ms per loop (mean ± std. dev. of 7 runs, 10 loops each)\n"
     ]
    }
   ],
   "source": [
    "%%timeit\n",
    "closest_IVF = index_customivf.search(test_data[0], k=10)"
   ]
  },
  {
   "cell_type": "code",
   "execution_count": 29,
   "metadata": {},
   "outputs": [
    {
     "name": "stdout",
     "output_type": "stream",
     "text": [
      "5.38 s ± 6.57 ms per loop (mean ± std. dev. of 7 runs, 1 loop each)\n"
     ]
    }
   ],
   "source": [
    "%%timeit\n",
    "closest_IVF = index_customivf.search(test_data, k=10)"
   ]
  },
  {
   "cell_type": "code",
   "execution_count": 35,
   "metadata": {},
   "outputs": [],
   "source": [
    "closest_IVF = index_customivf.search(test_data, k=10)"
   ]
  },
  {
   "cell_type": "code",
   "execution_count": 36,
   "metadata": {},
   "outputs": [
    {
     "name": "stdout",
     "output_type": "stream",
     "text": [
      "smetric@9 = 35.30\n",
      "recall@10 = 72.0\n",
      "recall@1 = 66.0\n"
     ]
    }
   ],
   "source": [
    "print(f'smetric@9 = {smetric_9(closest_IVF, closest_baseline):.2f}')\n",
    "print(f'recall@10 = {recall_n(closest_IVF, closest_baseline, 10):.1f}')\n",
    "print(f'recall@1 = {recall_n(closest_IVF, closest_baseline, 1):.1f}')"
   ]
  }
 ],
 "metadata": {
  "kernelspec": {
   "display_name": "rag_poc",
   "language": "python",
   "name": "python3"
  },
  "language_info": {
   "codemirror_mode": {
    "name": "ipython",
    "version": 3
   },
   "file_extension": ".py",
   "mimetype": "text/x-python",
   "name": "python",
   "nbconvert_exporter": "python",
   "pygments_lexer": "ipython3",
   "version": "3.12.2"
  }
 },
 "nbformat": 4,
 "nbformat_minor": 2
}
